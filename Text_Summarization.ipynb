{
 "cells": [
  {
   "cell_type": "markdown",
   "metadata": {},
   "source": [
    "##### Importing modules"
   ]
  },
  {
   "cell_type": "code",
   "execution_count": 12,
   "metadata": {},
   "outputs": [],
   "source": [
    "from gensim.summarization.summarizer import summarize\n",
    "from gensim.summarization import keywords\n",
    "from bs4 import BeautifulSoup\n",
    "import requests\n",
    "from urllib.request import urlopen"
   ]
  },
  {
   "cell_type": "code",
   "execution_count": 13,
   "metadata": {},
   "outputs": [],
   "source": [
    "text= \"\"\"Automatic summarization is the process of reducing a text document with a \\\n",
    "computer program in order to create a summary that retains the most important points \\\n",
    "of the original document. As the problem of information overload has grown, and as \\\n",
    "the quantity of data has increased, so has interest in automatic summarization. \\\n",
    "Technologies that can make a coherent summary take into account variables such as \\\n",
    "length, writing style and syntax. An example of the use of summarization technology \\\n",
    "is search engines such as Google. Document summarization is another.\"\"\""
   ]
  },
  {
   "cell_type": "code",
   "execution_count": 14,
   "metadata": {},
   "outputs": [
    {
     "name": "stdout",
     "output_type": "stream",
     "text": [
      "Automatic summarization is the process of reducing a text document with a computer program in order to create a summary that retains the most important points of the original document. As the problem of information overload has grown, and as the quantity of data has increased, so has interest in automatic summarization. Technologies that can make a coherent summary take into account variables such as length, writing style and syntax. An example of the use of summarization technology is search engines such as Google. Document summarization is another.\n"
     ]
    }
   ],
   "source": [
    "print(text)"
   ]
  },
  {
   "cell_type": "code",
   "execution_count": 15,
   "metadata": {},
   "outputs": [
    {
     "name": "stdout",
     "output_type": "stream",
     "text": [
      "Automatic summarization is the process of reducing a text document with a computer program in order to create a summary that retains the most important points of the original document.\n"
     ]
    }
   ],
   "source": [
    "#print(summarize(text))\n",
    "print(summarize(text))"
   ]
  },
  {
   "cell_type": "code",
   "execution_count": 16,
   "metadata": {},
   "outputs": [
    {
     "name": "stdout",
     "output_type": "stream",
     "text": [
      "document\n",
      "summarization\n",
      "writing\n",
      "summary\n"
     ]
    }
   ],
   "source": [
    "print(keywords(text))"
   ]
  },
  {
   "cell_type": "markdown",
   "metadata": {},
   "source": [
    "#### Importing through URL"
   ]
  },
  {
   "cell_type": "code",
   "execution_count": 17,
   "metadata": {},
   "outputs": [],
   "source": [
    "text = requests.get('http://textfiles.com/stories/3lpigs.txt').text"
   ]
  },
  {
   "cell_type": "code",
   "execution_count": 18,
   "metadata": {},
   "outputs": [
    {
     "name": "stdout",
     "output_type": "stream",
     "text": [
      "THE THREE LITTLE PIGS\n",
      "there were three little pigs, who left their mummy\n",
      "All summer long, they roamed through the woods and over the plains,playing\n",
      "None were happier than the three little pigs, and they\n",
      "welcome, but as summer drew to a close, they realized that folk were drifting\n",
      "The three little pigs started to feel they needed a real home.\n",
      "they knew that the fun was over now and they must set to work like the others,\n",
      "The laziest little pig\n",
      "said he'd build a straw hut.\n",
      "quite so lazy, the second little pig went in search of planks of seasoned\n",
      "third little pig did not like the wooden house.\n",
      "\"That's not the way to build a house!\" he said.\n",
      "and hard work to buiid a house that is strong enough to stand up to wind, \n",
      "rain, and snow, and most of all, protect us from the wolf!\"\n",
      "The days went by, and the wisest little pig's house took shape, brick by\n",
      "Why don't you come and play?\" But the\n",
      "stubborn bricklayer pig just said \"no\".\n",
      "\"I shall finish my house first.\n",
      "It must be solid and sturdy.\n",
      "come and play!\" he said.\n",
      "For he who laughs\n",
      "last, laughs longest!\"\n",
      "It was the wisest little pig that found the tracks of a big wolf in the\n",
      "The little pigs rushed home in alarm.\n",
      "Along came the wolf, scowling \n",
      "fiercely at the laziest pig's straw hut.\n",
      "\"Come out!\" ordered the wolf, his mouth watering.\n",
      "\"I'd rather stay where I am!\" replied the little pig in a tiny voice.\n",
      "\"I'll make you come out!\" growled the wolf angrily, and puffing out his\n",
      "And all the straw the silly pig had heaped against some thin poles,\n",
      "Excited by his own cleverness, the wolf did not\n",
      "notice that the little pig had slithered out from underneath the heap of\n",
      "straw, and was dashing towards his brother's wooden house.\n",
      "that the little pig was escaping, the wolf grew wild with rage.\n",
      "\"Come back!\" he roared, trying to catch the pig as he ran into the wooden \n",
      "The other little pig greeted his brother, shaking like a leaf.\n",
      "\"I hope this house won't fall down!\n",
      "Outside, the wolf could hear the little pigs' words.\n",
      "the idea of a two-course meal, he rained blows on the door.\n",
      "Inside, the two brothers wept in fear and did their best to hold the door\n",
      "Then the furious wolf braced himself a new effort: he\n",
      "drew in a really enormous breath, and went ...\n",
      "The wooden house\n",
      "Luckily, the wisest little pig had been watching the scene from the window\n",
      "of his own brick house, and he rapidly opened the door to his fleeing \n",
      "And not a moment too soon, for the wolf was already hammering \n",
      "This time, the wolf had grave doubts.\n",
      "This house had a\n",
      "This house had a\n",
      "This house had a\n",
      "much more solid air than the others.\n",
      "three little pigs watched him and their fear began to fade.\n",
      "his efforts, the wolf decided to try one of his tricks.\n",
      "wisest little pig had seen thls ploy, and he quickly said:\n",
      "wolf was not sure if he should slide down the black hole.\n",
      "to get in, but the sound of the little pigs' voices below only made him feel\n",
      "The wolf landed in the fire, stunned\n",
      "The three happy little pigs, dancing round and round the yard, began to \n",
      "The wicked black wolf will never come back...!\"\n",
      "From that terrible day on, the wisest little pig's brothers set to work\n",
      "In less than no time, up went the two new brick houses.\n",
      "The wolf\n",
      "three chimneys, he remembered the terrible pain of a burnt tail, and he left\n",
      "Now safe and happy, the wisest little pig called to his brothers:\n",
      "Come on, let's go and play!\"\n"
     ]
    }
   ],
   "source": [
    "print(summarize(text,ratio=0.50))"
   ]
  },
  {
   "cell_type": "code",
   "execution_count": 96,
   "metadata": {},
   "outputs": [
    {
     "name": "stdout",
     "output_type": "stream",
     "text": [
      "third little pig did not like the wooden house.\n",
      "The days went by, and the wisest little pig's house took shape, brick by\n",
      "It was the wisest little pig that found the tracks of a big wolf in the\n",
      "that the little pig was escaping, the wolf grew wild with rage.\n",
      "The other little pig greeted his brother, shaking like a leaf.\n",
      "Outside, the wolf could hear the little pigs' words.\n",
      "From that terrible day on, the wisest little pig's brothers set to work\n",
      "Now safe and happy, the wisest little pig called to his brothers:\n"
     ]
    }
   ],
   "source": [
    "print(summarize(text,word_count=100))"
   ]
  },
  {
   "cell_type": "code",
   "execution_count": 97,
   "metadata": {},
   "outputs": [],
   "source": [
    "def get_only_text(url):\n",
    "    page=urlopen(url)\n",
    "    soup=BeautifulSoup(page,'lxml')\n",
    "    text=' '.join(map(lambda x : x.text,soup.find_all('p')))\n",
    "    return soup.title.text, text  "
   ]
  },
  {
   "cell_type": "code",
   "execution_count": 55,
   "metadata": {},
   "outputs": [],
   "source": [
    "url=\"https://en.wikipedia.org/wiki/Deep_learning\""
   ]
  },
  {
   "cell_type": "code",
   "execution_count": 56,
   "metadata": {},
   "outputs": [],
   "source": [
    "text=get_only_text(url)"
   ]
  },
  {
   "cell_type": "code",
   "execution_count": 98,
   "metadata": {},
   "outputs": [],
   "source": [
    "Text_Summary=summarize(str(text),ratio=0.02)"
   ]
  },
  {
   "cell_type": "code",
   "execution_count": 99,
   "metadata": {},
   "outputs": [
    {
     "name": "stdout",
     "output_type": "stream",
     "text": [
      "Brief Text_Summary :\n",
      " third little pig did not like the wooden house.\n",
      "The days went by, and the wisest little pig's house took shape, brick by\n"
     ]
    }
   ],
   "source": [
    "print(\"Brief Text_Summary :\\n\",Text_Summary)"
   ]
  },
  {
   "cell_type": "code",
   "execution_count": 100,
   "metadata": {
    "scrolled": true
   },
   "outputs": [
    {
     "name": "stdout",
     "output_type": "stream",
     "text": [
      "pigs\n",
      "pig\n",
      "wolf\n",
      "brothers\n",
      "brother\n"
     ]
    }
   ],
   "source": [
    "Main_keywords=keywords(str(text),ratio=0.02)\n",
    "print(Main_keywords)"
   ]
  },
  {
   "cell_type": "code",
   "execution_count": 101,
   "metadata": {},
   "outputs": [
    {
     "name": "stdout",
     "output_type": "stream",
     "text": [
      "Original text character length 5403\n",
      "Summary text character length 120\n",
      "Compression Ratio 98 %\n"
     ]
    }
   ],
   "source": [
    "print('Original text character length',len(str(text)))\n",
    "print('Summary text character length',len(Text_Summary))\n",
    "print('Compression Ratio',round(100-(100*len(Text_Summary)/len(str(text)))),'%')"
   ]
  },
  {
   "cell_type": "code",
   "execution_count": 102,
   "metadata": {},
   "outputs": [],
   "source": [
    "text= '''Bajaj Finance is one of the largest players in the rapidly growing consumer finance segment in India and provides interest-free EMI finance options in more than 50 categories.\n",
    "Anand Rathi initiates coverage on the stock with a buy rating and a 12-month target price of Rs 3,370 which translates into an upside of another 20 percent from Thursday’s closing of Rs 2,808.\n",
    "The stock rallied from Rs 1,726.25 on March 15, 2018, to Rs 2,808 on March 14, 2019, which translates into a rally of over 60 percent in last 1 year.\n",
    "Bajaj Finance has a well-diversified credit portfolio. The company focuses on cross-selling, customer acquisition, systematic expansion in delivery channels (both physical and virtual) and distribution of products through these channels are likely to sustain robust growth in AUM, going forward.\n",
    "The company offers wide range of products such as consumer durable loans, digital product loans, lifestyle product loans, 2-wheeler & 3-wheeler loans, salaried personal loans, e-commerce consumer finance, working capital loans, loan to professionals, commercial loans, gold loans, home loans, etc.\n",
    "The company is growing its customer cross-sell franchise by 25-30 percent every year, said the AnandRathi note.\n",
    "Bajaj Finance has a leadership position in sector, lower ticket size, consumer durable financing, and lifestyle product financing business along with the diversified nature of its loan portfolio.\n",
    "“This has allowed the company to register strong AUM growth of over 40 percent CAGR in the past four years at Rs 80,444 crore as on FY18 with asset quality staying under control (GNPA ratio at 1.5%). The net profit in FY11-18 rose at a robust pace of 40 percent CAGR to Rs 2,646 crore as on FY18,” the report added.\n",
    "In its latest quarterly results, Bajaj Finance reported 54 percent growth in net profit to Rs 1,059 crore led by 41 percent loan growth and net interest margin (NIM) expansion (~50bps to ~12.1%YoY).\n",
    "The asset quality remains under control with GNPAs and NNPAs at 1.55 percent and 0.62 percent, respectively. Loan growth was largely led by consumer finance segment growing 42 percent on a YoY basis, and 13 percent on a QoQ basis to Rs 43,826 crore.'''"
   ]
  },
  {
   "cell_type": "code",
   "execution_count": 134,
   "metadata": {},
   "outputs": [],
   "source": [
    "Text_Summary=summarize(str(text),ratio=0.50)"
   ]
  },
  {
   "cell_type": "code",
   "execution_count": 135,
   "metadata": {},
   "outputs": [
    {
     "name": "stdout",
     "output_type": "stream",
     "text": [
      "The company focuses on cross-selling, customer acquisition, systematic expansion in delivery channels (both physical and virtual) and distribution of products through these channels are likely to sustain robust growth in AUM, going forward.\n",
      "The company is growing its customer cross-sell franchise by 25-30 percent every year, said the AnandRathi note.\n",
      "Bajaj Finance has a leadership position in sector, lower ticket size, consumer durable financing, and lifestyle product financing business along with the diversified nature of its loan portfolio.\n",
      "“This has allowed the company to register strong AUM growth of over 40 percent CAGR in the past four years at Rs 80,444 crore as on FY18 with asset quality staying under control (GNPA ratio at 1.5%).\n",
      "In its latest quarterly results, Bajaj Finance reported 54 percent growth in net profit to Rs 1,059 crore led by 41 percent loan growth and net interest margin (NIM) expansion (~50bps to ~12.1%YoY).\n",
      "Loan growth was largely led by consumer finance segment growing 42 percent on a YoY basis, and 13 percent on a QoQ basis to Rs 43,826 crore.\n"
     ]
    }
   ],
   "source": [
    "print(Text_Summary)"
   ]
  },
  {
   "cell_type": "code",
   "execution_count": 113,
   "metadata": {},
   "outputs": [
    {
     "name": "stdout",
     "output_type": "stream",
     "text": [
      "Original text character length 2185\n",
      "Summary text character length 735\n",
      "Compression Ratio 66 %\n"
     ]
    }
   ],
   "source": [
    "print('Original text character length',len(str(text)))\n",
    "print('Summary text character length',len(Text_Summary))\n",
    "print('Compression Ratio',round(100-(100*len(Text_Summary)/len(str(text)))),'%')"
   ]
  },
  {
   "cell_type": "code",
   "execution_count": null,
   "metadata": {},
   "outputs": [],
   "source": []
  }
 ],
 "metadata": {
  "kernelspec": {
   "display_name": "Python 3",
   "language": "python",
   "name": "python3"
  },
  "language_info": {
   "codemirror_mode": {
    "name": "ipython",
    "version": 3
   },
   "file_extension": ".py",
   "mimetype": "text/x-python",
   "name": "python",
   "nbconvert_exporter": "python",
   "pygments_lexer": "ipython3",
   "version": "3.7.1"
  }
 },
 "nbformat": 4,
 "nbformat_minor": 2
}
