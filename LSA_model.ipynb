{
 "cells": [
  {
   "cell_type": "code",
   "execution_count": 1,
   "metadata": {},
   "outputs": [],
   "source": [
    "#from bs4 import BeautifulSoup"
   ]
  },
  {
   "cell_type": "code",
   "execution_count": 9,
   "metadata": {},
   "outputs": [],
   "source": [
    "import nltk\n",
    "from nltk.corpus import stopwords\n",
    "from sklearn.feature_extraction.text import TfidfVectorizer"
   ]
  },
  {
   "cell_type": "code",
   "execution_count": 10,
   "metadata": {},
   "outputs": [],
   "source": [
    "doc1 = \"Data Science Machine Learning\"\n",
    "doc2 = \"Money fun Family Kids home\"\n",
    "doc3 = \"Programming Java Data Structures\"\n",
    "doc4 = \"Love food health games energy fun\"\n",
    "doc5 = \"Algorithms Data Computers\""
   ]
  },
  {
   "cell_type": "code",
   "execution_count": 11,
   "metadata": {},
   "outputs": [],
   "source": [
    "doc_complete = [doc1, doc2, doc3, doc4, doc5]"
   ]
  },
  {
   "cell_type": "code",
   "execution_count": 12,
   "metadata": {},
   "outputs": [
    {
     "data": {
      "text/plain": [
       "['Data Science Machine Learning',\n",
       " 'Money fun Family Kids home',\n",
       " 'Programming Java Data Structures',\n",
       " 'Love food health games energy fun',\n",
       " 'Algorithms Data Computers']"
      ]
     },
     "execution_count": 12,
     "metadata": {},
     "output_type": "execute_result"
    }
   ],
   "source": [
    "doc_complete"
   ]
  },
  {
   "cell_type": "code",
   "execution_count": 13,
   "metadata": {},
   "outputs": [],
   "source": [
    "vectorizer=TfidfVectorizer()"
   ]
  },
  {
   "cell_type": "code",
   "execution_count": 14,
   "metadata": {},
   "outputs": [],
   "source": [
    "X=vectorizer.fit_transform(doc_complete)"
   ]
  },
  {
   "cell_type": "code",
   "execution_count": 7,
   "metadata": {},
   "outputs": [
    {
     "name": "stdout",
     "output_type": "stream",
     "text": [
      "  (0, 2)\t0.3606383263504801\n",
      "  (0, 17)\t0.5384979101064753\n",
      "  (0, 14)\t0.5384979101064753\n",
      "  (0, 12)\t0.5384979101064753\n",
      "  (1, 15)\t0.4636932227319092\n",
      "  (1, 6)\t0.3741047724501572\n",
      "  (1, 4)\t0.4636932227319092\n",
      "  (1, 11)\t0.4636932227319092\n",
      "  (1, 9)\t0.4636932227319092\n",
      "  (2, 2)\t0.3606383263504801\n",
      "  (2, 16)\t0.5384979101064753\n",
      "  (2, 10)\t0.5384979101064753\n",
      "  (2, 18)\t0.5384979101064753\n",
      "  (3, 6)\t0.3393931489111758\n",
      "  (3, 13)\t0.4206690600631704\n",
      "  (3, 5)\t0.4206690600631704\n",
      "  (3, 8)\t0.4206690600631704\n",
      "  (3, 7)\t0.4206690600631704\n",
      "  (3, 3)\t0.4206690600631704\n",
      "  (4, 2)\t0.42799292268317357\n",
      "  (4, 0)\t0.6390704413963749\n",
      "  (4, 1)\t0.6390704413963749\n"
     ]
    }
   ],
   "source": [
    "print(X)"
   ]
  },
  {
   "cell_type": "code",
   "execution_count": 8,
   "metadata": {},
   "outputs": [],
   "source": [
    "from sklearn.decomposition import TruncatedSVD\n",
    "lsa = TruncatedSVD(n_components=2,n_iter=100)"
   ]
  },
  {
   "cell_type": "code",
   "execution_count": 9,
   "metadata": {},
   "outputs": [
    {
     "data": {
      "text/plain": [
       "TruncatedSVD(algorithm='randomized', n_components=2, n_iter=100,\n",
       "       random_state=None, tol=0.0)"
      ]
     },
     "execution_count": 9,
     "metadata": {},
     "output_type": "execute_result"
    }
   ],
   "source": [
    "lsa.fit(X)"
   ]
  },
  {
   "cell_type": "code",
   "execution_count": 10,
   "metadata": {},
   "outputs": [],
   "source": [
    "terms=vectorizer.get_feature_names()"
   ]
  },
  {
   "cell_type": "code",
   "execution_count": 11,
   "metadata": {},
   "outputs": [
    {
     "data": {
      "text/plain": [
       "['algorithms',\n",
       " 'computers',\n",
       " 'data',\n",
       " 'energy',\n",
       " 'family',\n",
       " 'food',\n",
       " 'fun',\n",
       " 'games',\n",
       " 'health',\n",
       " 'home',\n",
       " 'java',\n",
       " 'kids',\n",
       " 'learning',\n",
       " 'love',\n",
       " 'machine',\n",
       " 'money',\n",
       " 'programming',\n",
       " 'science',\n",
       " 'structures']"
      ]
     },
     "execution_count": 11,
     "metadata": {},
     "output_type": "execute_result"
    }
   ],
   "source": [
    "terms"
   ]
  },
  {
   "cell_type": "code",
   "execution_count": 12,
   "metadata": {},
   "outputs": [
    {
     "name": "stdout",
     "output_type": "stream",
     "text": [
      "concepto 0\n",
      "data\n",
      "computers\n",
      "algorithms\n",
      "learning\n",
      "machine\n",
      "science\n",
      "java\n",
      "programming\n",
      "structures\n",
      "family\n",
      "concepto 1\n",
      "fun\n",
      "family\n",
      "home\n",
      "kids\n",
      "money\n",
      "energy\n",
      "food\n",
      "games\n",
      "health\n",
      "love\n"
     ]
    }
   ],
   "source": [
    "for i, comp in enumerate(lsa.components_):\n",
    "    termsInComp=zip(terms,comp)\n",
    "    sortedterms=sorted(termsInComp,key=lambda x:x[1],reverse=True)[:10]\n",
    "    print(\"concepto %d\" % i )\n",
    "    for term in sortedterms:\n",
    "        print(term[0])"
   ]
  },
  {
   "cell_type": "code",
   "execution_count": null,
   "metadata": {},
   "outputs": [],
   "source": []
  },
  {
   "cell_type": "code",
   "execution_count": null,
   "metadata": {},
   "outputs": [],
   "source": []
  }
 ],
 "metadata": {
  "kernelspec": {
   "display_name": "Python 3",
   "language": "python",
   "name": "python3"
  },
  "language_info": {
   "codemirror_mode": {
    "name": "ipython",
    "version": 3
   },
   "file_extension": ".py",
   "mimetype": "text/x-python",
   "name": "python",
   "nbconvert_exporter": "python",
   "pygments_lexer": "ipython3",
   "version": "3.7.1"
  }
 },
 "nbformat": 4,
 "nbformat_minor": 2
}
